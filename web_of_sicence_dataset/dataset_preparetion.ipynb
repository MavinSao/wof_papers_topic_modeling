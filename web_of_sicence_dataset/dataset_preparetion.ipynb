{
 "cells": [
  {
   "cell_type": "code",
   "execution_count": 1,
   "id": "6cd79cb3",
   "metadata": {},
   "outputs": [],
   "source": [
    "import pandas as pd\n",
    "import glob\n",
    "import os"
   ]
  },
  {
   "cell_type": "code",
   "execution_count": 2,
   "id": "b18539a1",
   "metadata": {},
   "outputs": [],
   "source": [
    "def create_combined_dataset(input_folder, output_file):\n",
    "    # Get all Excel files in the input folder\n",
    "    all_files = glob.glob(os.path.join(input_folder, \"*.xlsx\"))\n",
    "    \n",
    "    # List to store individual dataframes\n",
    "    dfs = []\n",
    "    \n",
    "    # Read each Excel file and append to the list\n",
    "    for file in all_files:\n",
    "        df = pd.read_excel(file)\n",
    "        dfs.append(df)\n",
    "    \n",
    "    # Combine all dataframes\n",
    "    combined_df = pd.concat(dfs, ignore_index=True)\n",
    "    \n",
    "    # Select only the required columns\n",
    "    columns_to_keep = ['Article Title', 'Abstract', 'Publication Date', 'Publication Year', 'DOI']\n",
    "    final_df = combined_df[columns_to_keep]\n",
    "    \n",
    "    # Save the final dataframe to a CSV file\n",
    "    final_df.to_csv(output_file, index=False)\n",
    "    \n",
    "    print(f\"Combined dataset saved to {output_file}\")"
   ]
  },
  {
   "cell_type": "code",
   "execution_count": 3,
   "id": "47068f48",
   "metadata": {},
   "outputs": [],
   "source": [
    "# Example usage\n",
    "input_folder = \"./\"\n",
    "output_file = \"./wof_ds_papers.csv\""
   ]
  },
  {
   "cell_type": "code",
   "execution_count": null,
   "id": "42f9449b",
   "metadata": {},
   "outputs": [],
   "source": [
    "create_combined_dataset(input_folder, output_file)"
   ]
  }
 ],
 "metadata": {
  "kernelspec": {
   "display_name": "Python 3",
   "language": "python",
   "name": "python3"
  },
  "language_info": {
   "codemirror_mode": {
    "name": "ipython",
    "version": 3
   },
   "file_extension": ".py",
   "mimetype": "text/x-python",
   "name": "python",
   "nbconvert_exporter": "python",
   "pygments_lexer": "ipython3",
   "version": "3.8.8"
  }
 },
 "nbformat": 4,
 "nbformat_minor": 5
}
